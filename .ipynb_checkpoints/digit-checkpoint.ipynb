{
 "cells": [
  {
   "attachments": {},
   "cell_type": "markdown",
   "metadata": {},
   "source": [
    "### DSC  371 - Foundations of Data Science, DePaul University\n",
    "### Tim Gamble\n",
    "# Numerous Approaches for Solving [Digit Recognizer](https://www.kaggle.com/c/digit-recognizer)\n",
    "\n",
    "---\n",
    "\n",
    "### Description\n",
    "The goal of this project is to learn the basics of computer vision by correctly identifying digits from a dataset of handwritten images. The dataset that will be used to build the models can be found on [kaggle](https://www.kaggle.com/c/digit-recognizer).\n",
    "\n",
    "In this notebook are implementations for the following models:\n",
    "- Multinominal Linear Regression\n",
    "- kNN\n",
    "- Random Forest\n",
    "- Perceptron Neural Network\n",
    "- Convolutional Neural Network\n",
    " \n",
    "I used [scikit](https://scikit-learn.org/stable/) to implement linear regression, kNN and random forest models. I used Keras with a Tensorflow backend to build the perceptron neural network as well as the convolutional neural network.\n",
    "\n",
    "### Evaluation\n",
    "Accuracy Results:\n",
    "- Multinominal Linear Regression: 0.91128\n",
    "- kNN: 0.96614\n",
    "- Random Forest: 0.96028\n",
    "- Perceptron Neural Network: 0.97485\n",
    "- Convolutional Neural Network: 0.98771\n",
    "\n",
    "As initially hypothesised, the convolutional neural network performed the best. With some further tweaking of parameters and potentially adding additional layers, this approach will yield the best results.\n",
    "\n",
    "### Outside Sources\n",
    "In order to implement each of these models, research across a variety of websites had been done. To implement the algorithms in code I used the following sources:\n",
    "- https://scikit-learn.org/stable/modules/generated/sklearn.linear_model.LogisticRegression.html\n",
    "- https://scikit-learn.org/stable/modules/generated/sklearn.neighbors.KNeighborsClassifier.html\n",
    "- https://scikit-learn.org/stable/modules/generated/sklearn.ensemble.RandomForestClassifier.html\n",
    "- https://keras.io/\n",
    "\n",
    "The scikit-learn package was used to perform all of the non-neural network based classifications. The Keras package was used exclusivly to perform neural-network based classifications. Further conceptual reading was done outside of these sources.\n",
    "\n",
    "### How to setup\n",
    "All of the dependencies should already exist in the env/ folder so this workbook should work out of the box. If this is not the case, then you will need to install all of them.\n",
    "First, activate the virtual environment:\n",
    "\n",
    "`source env/bin/activate`\n",
    "\n",
    "Second, install all of the dependencies:\n",
    "\n",
    "`pip install -r requirements.txt`\n",
    "\n",
    "### File Structure\n",
    "\n",
    "```\n",
    "|- digit.ipynb (This workbook)\n",
    "|- images (Images of graphs for each model)\n",
    "|    |- knn\n",
    "|    |- random_forest\n",
    "|    |- regression\n",
    "|    \n",
    "|- input (Data from Kaggle)\n",
    "|    |- test.csv\n",
    "|    |- train.csv\n",
    "|    \n",
    "|- output (Prediction files)\n",
    "|    |- cnn_prediction.csv (Convolutional Neural Network)\n",
    "|    |- knn_prediction.csv (kNN)\n",
    "|    |- lr_prediction.csv (Multinominal Regression)\n",
    "|    |- nn_prediction.csv (Neural Network)\n",
    "|    |- rf_prediction.csv (Random Forest)\n",
    "|    \n",
    "|- requirements.txt (All the libraries and versions needed to run the workbook)\n",
    "|- env (The environment used to run this notebook)\n",
    "```"
   ]
  },
  {
   "cell_type": "code",
   "execution_count": 1,
   "metadata": {},
   "outputs": [],
   "source": [
    "# Just some helper and init functions for the workbook.\n",
    "\n",
    "# Suppresses the warnings comming from sklearn\n",
    "def warn(*args, **kwargs):\n",
    "    pass\n",
    "import warnings\n",
    "warnings.warn = warn\n",
    "\n",
    "# Given a list, partition l into partitions of length n.\n",
    "def chunks(l, n):\n",
    "    for i in range(0, len(l), n):\n",
    "        yield l[i:i + n]"
   ]
  },
  {
   "cell_type": "markdown",
   "metadata": {},
   "source": [
    "### Load data and normalize\n",
    "- Read in the test and train datasets, can be downloaded [here](https://www.kaggle.com/c/digit-recognizer/data)\n",
    "- Normalize the pixel values on a scale from 0 to 1 by dividing all pixel values by 255\n",
    "- Separate the labels and the pixel values from the training dataframe and into their own variables (X, y)"
   ]
  },
  {
   "cell_type": "code",
   "execution_count": 2,
   "metadata": {
    "collapsed": true
   },
   "outputs": [],
   "source": [
    "import pandas as pd\n",
    "\n",
    "# Read in the test and train datasets downloaded from Kaggle.\n",
    "# https://www.kaggle.com/c/digit-recognizer\n",
    "test_df = pd.read_csv('./input/test.csv').as_matrix()\n",
    "train_df = pd.read_csv('./input/train.csv').as_matrix()\n",
    "\n",
    "# Normalize the pixels in the train and test dataframes on a scale from 0 and 1.\n",
    "# Models perform better when the data is normalized between 0 and 1.\n",
    "test_df = test_df / 255. \n",
    "X = train_df[:, 1:]\n",
    "y = train_df[:, 0:1]\n",
    "X = X / 255. "
   ]
  },
  {
   "cell_type": "markdown",
   "metadata": {},
   "source": [
    "### Create the training and testing datasets\n",
    "- When testing a model, use the train_test_split function to genereate labeled train and test data. We use this data in our models to know if we are improving them or not. For submission, don't use this function. Instead use all of the testing data to maximize the accuracy of our model."
   ]
  },
  {
   "cell_type": "code",
   "execution_count": 31,
   "metadata": {
    "collapsed": true
   },
   "outputs": [],
   "source": [
    "from sklearn.model_selection import train_test_split\n",
    "\n",
    "# Uncomment this to train for testing\n",
    "# Purpose, be able to determine rough accuracy for Sklearn based models\n",
    "X_train, X_test, y_train, y_test = train_test_split(X, y, test_size=0.25, random_state=7)\n",
    "\n",
    "# Uncomment this to train for submission\n",
    "# X_train, y_train = X, y"
   ]
  },
  {
   "cell_type": "markdown",
   "metadata": {},
   "source": [
    "### Sample of the images being worked with"
   ]
  },
  {
   "cell_type": "code",
   "execution_count": null,
   "metadata": {},
   "outputs": [],
   "source": [
    "import matplotlib.pyplot as plt\n",
    "plt.subplots_adjust(hspace=0.5)\n",
    "\n",
    "# Print some of the images to see what we are working with\n",
    "for i in range(0, 6):\n",
    "    plt.subplot(231 + i)\n",
    "    plt.title(\"Label: \" + str(y_train[i][0]))\n",
    "    plt.imshow(list(chunks(X_train[i], 28)), cmap=plt.get_cmap('gray'))\n",
    "\n",
    "plt.show()"
   ]
  },
  {
   "cell_type": "markdown",
   "metadata": {},
   "source": [
    "### Sklearn model tester and kaggle upload file builder\n",
    "- Test the accuracy of our sklearn based models \n",
    "- If passed an output_file, build a file that is accepted by the kaggle grader"
   ]
  },
  {
   "cell_type": "code",
   "execution_count": 5,
   "metadata": {
    "collapsed": true
   },
   "outputs": [],
   "source": [
    "# Given a model, predict a label for our training data and output a file to turn into Kaggle.\n",
    "# This test_model function only works for models produced using sklearn.\n",
    "def test_model(model, output_file=None):\n",
    "    yhat = model.predict(test_df)\n",
    "    df = pd.DataFrame(data={\n",
    "        'ImageId': list(range(1, len(yhat)+1)), \n",
    "        'Label': yhat\n",
    "    })\n",
    "    accuracy = model.score(X_test, y_test)\n",
    "    if output_file:\n",
    "        df.to_csv('./output/' + output_file, index = False)\n",
    "    print(accuracy)"
   ]
  },
  {
   "cell_type": "markdown",
   "metadata": {},
   "source": [
    "# [Multinominal Linear Regression](https://scikit-learn.org/stable/modules/generated/sklearn.linear_model.LogisticRegression.html) - Submission Accuracy: 0.91128\n",
    "### Sklearn LogisticRegression model implementation"
   ]
  },
  {
   "cell_type": "code",
   "execution_count": 6,
   "metadata": {
    "scrolled": true
   },
   "outputs": [
    {
     "data": {
      "text/plain": [
       "LogisticRegression(C=1.0, class_weight=None, dual=False, fit_intercept=True,\n",
       "          intercept_scaling=1, max_iter=8, multi_class='warn', n_jobs=None,\n",
       "          penalty='l2', random_state=None, solver='warn', tol=0.0001,\n",
       "          verbose=0, warm_start=False)"
      ]
     },
     "execution_count": 6,
     "metadata": {},
     "output_type": "execute_result"
    }
   ],
   "source": [
    "import numpy as np\n",
    "from sklearn.linear_model import LogisticRegression\n",
    "\n",
    "# Build a simple linear regression model with a max iteration of 8 (most optimal). \n",
    "# We determined the optimal iterations by testing the scenerio until we leveled off, \n",
    "# a graph displaying this process is below.\n",
    "lr_model = LogisticRegression(max_iter=8)\n",
    "lr_model.fit(X_train, y_train)"
   ]
  },
  {
   "cell_type": "code",
   "execution_count": 7,
   "metadata": {},
   "outputs": [
    {
     "name": "stdout",
     "output_type": "stream",
     "text": [
      "0.9261904761904762\n"
     ]
    }
   ],
   "source": [
    "test_model(lr_model, 'lr_prediction.csv')"
   ]
  },
  {
   "attachments": {},
   "cell_type": "markdown",
   "metadata": {},
   "source": [
    "![title](images/regression.png)\n",
    "\n",
    "After running the linear regression with max_iter set from 1 to 15, the max_iter yielding the best results was 8 iterations. Also, using the default 100 max_iter absolutly crushed my laptop so for the model to even build I had to set the max_iter to something less than 20 iterations otherwise it would never finish building."
   ]
  },
  {
   "cell_type": "markdown",
   "metadata": {},
   "source": [
    "# [kNN](https://scikit-learn.org/stable/modules/generated/sklearn.neighbors.KNeighborsClassifier.html) - Submission Accuracy: 0.96614\n",
    "### Sklearn KNeighborsClassifier model implementation"
   ]
  },
  {
   "cell_type": "code",
   "execution_count": 34,
   "metadata": {},
   "outputs": [
    {
     "data": {
      "text/plain": [
       "KNeighborsClassifier(algorithm='auto', leaf_size=30, metric='minkowski',\n",
       "           metric_params=None, n_jobs=None, n_neighbors=15, p=2,\n",
       "           weights='uniform')"
      ]
     },
     "execution_count": 34,
     "metadata": {},
     "output_type": "execute_result"
    }
   ],
   "source": [
    "import numpy as np\n",
    "from sklearn.neighbors import KNeighborsClassifier\n",
    "\n",
    "# Build a k-nearest neighbors classifier with n_neighbors set to 3. We decided to set k equal to 3 \n",
    "# because it maximized the test accuracy as can be seen in the graph plotted below. NOTE: This model \n",
    "# does not take very long to build, but to predict takes a while.\n",
    "knn_model = KNeighborsClassifier(n_neighbors=3)\n",
    "knn_model.fit(X_train, y_train)"
   ]
  },
  {
   "cell_type": "code",
   "execution_count": 33,
   "metadata": {},
   "outputs": [
    {
     "ename": "KeyboardInterrupt",
     "evalue": "",
     "output_type": "error",
     "traceback": [
      "\u001b[0;31m---------------------------------------------------------------------------\u001b[0m",
      "\u001b[0;31mKeyboardInterrupt\u001b[0m                         Traceback (most recent call last)",
      "\u001b[0;32m<ipython-input-33-249c69dc5d88>\u001b[0m in \u001b[0;36m<module>\u001b[0;34m\u001b[0m\n\u001b[0;32m----> 1\u001b[0;31m \u001b[0mtest_model\u001b[0m\u001b[0;34m(\u001b[0m\u001b[0mknn_model\u001b[0m\u001b[0;34m,\u001b[0m \u001b[0;34m'knn_prediction.csv'\u001b[0m\u001b[0;34m)\u001b[0m\u001b[0;34m\u001b[0m\u001b[0m\n\u001b[0m",
      "\u001b[0;32m<ipython-input-5-9744d054a4dd>\u001b[0m in \u001b[0;36mtest_model\u001b[0;34m(model, output_file)\u001b[0m\n\u001b[1;32m      2\u001b[0m \u001b[0;31m# This test_model function only works for models produced using sklearn.\u001b[0m\u001b[0;34m\u001b[0m\u001b[0;34m\u001b[0m\u001b[0m\n\u001b[1;32m      3\u001b[0m \u001b[0;32mdef\u001b[0m \u001b[0mtest_model\u001b[0m\u001b[0;34m(\u001b[0m\u001b[0mmodel\u001b[0m\u001b[0;34m,\u001b[0m \u001b[0moutput_file\u001b[0m\u001b[0;34m=\u001b[0m\u001b[0;32mNone\u001b[0m\u001b[0;34m)\u001b[0m\u001b[0;34m:\u001b[0m\u001b[0;34m\u001b[0m\u001b[0m\n\u001b[0;32m----> 4\u001b[0;31m     \u001b[0myhat\u001b[0m \u001b[0;34m=\u001b[0m \u001b[0mmodel\u001b[0m\u001b[0;34m.\u001b[0m\u001b[0mpredict\u001b[0m\u001b[0;34m(\u001b[0m\u001b[0mtest_df\u001b[0m\u001b[0;34m)\u001b[0m\u001b[0;34m\u001b[0m\u001b[0m\n\u001b[0m\u001b[1;32m      5\u001b[0m     df = pd.DataFrame(data={\n\u001b[1;32m      6\u001b[0m         \u001b[0;34m'ImageId'\u001b[0m\u001b[0;34m:\u001b[0m \u001b[0mlist\u001b[0m\u001b[0;34m(\u001b[0m\u001b[0mrange\u001b[0m\u001b[0;34m(\u001b[0m\u001b[0;36m1\u001b[0m\u001b[0;34m,\u001b[0m \u001b[0mlen\u001b[0m\u001b[0;34m(\u001b[0m\u001b[0myhat\u001b[0m\u001b[0;34m)\u001b[0m\u001b[0;34m+\u001b[0m\u001b[0;36m1\u001b[0m\u001b[0;34m)\u001b[0m\u001b[0;34m)\u001b[0m\u001b[0;34m,\u001b[0m\u001b[0;34m\u001b[0m\u001b[0m\n",
      "\u001b[0;32m~/Documents/DSC341/Final/digit/env/lib/python3.6/site-packages/sklearn/neighbors/classification.py\u001b[0m in \u001b[0;36mpredict\u001b[0;34m(self, X)\u001b[0m\n\u001b[1;32m    147\u001b[0m         \u001b[0mX\u001b[0m \u001b[0;34m=\u001b[0m \u001b[0mcheck_array\u001b[0m\u001b[0;34m(\u001b[0m\u001b[0mX\u001b[0m\u001b[0;34m,\u001b[0m \u001b[0maccept_sparse\u001b[0m\u001b[0;34m=\u001b[0m\u001b[0;34m'csr'\u001b[0m\u001b[0;34m)\u001b[0m\u001b[0;34m\u001b[0m\u001b[0m\n\u001b[1;32m    148\u001b[0m \u001b[0;34m\u001b[0m\u001b[0m\n\u001b[0;32m--> 149\u001b[0;31m         \u001b[0mneigh_dist\u001b[0m\u001b[0;34m,\u001b[0m \u001b[0mneigh_ind\u001b[0m \u001b[0;34m=\u001b[0m \u001b[0mself\u001b[0m\u001b[0;34m.\u001b[0m\u001b[0mkneighbors\u001b[0m\u001b[0;34m(\u001b[0m\u001b[0mX\u001b[0m\u001b[0;34m)\u001b[0m\u001b[0;34m\u001b[0m\u001b[0m\n\u001b[0m\u001b[1;32m    150\u001b[0m         \u001b[0mclasses_\u001b[0m \u001b[0;34m=\u001b[0m \u001b[0mself\u001b[0m\u001b[0;34m.\u001b[0m\u001b[0mclasses_\u001b[0m\u001b[0;34m\u001b[0m\u001b[0m\n\u001b[1;32m    151\u001b[0m         \u001b[0m_y\u001b[0m \u001b[0;34m=\u001b[0m \u001b[0mself\u001b[0m\u001b[0;34m.\u001b[0m\u001b[0m_y\u001b[0m\u001b[0;34m\u001b[0m\u001b[0m\n",
      "\u001b[0;32m~/Documents/DSC341/Final/digit/env/lib/python3.6/site-packages/sklearn/neighbors/base.py\u001b[0m in \u001b[0;36mkneighbors\u001b[0;34m(self, X, n_neighbors, return_distance)\u001b[0m\n\u001b[1;32m    441\u001b[0m                 delayed_query(\n\u001b[1;32m    442\u001b[0m                     X[s], n_neighbors, return_distance)\n\u001b[0;32m--> 443\u001b[0;31m                 \u001b[0;32mfor\u001b[0m \u001b[0ms\u001b[0m \u001b[0;32min\u001b[0m \u001b[0mgen_even_slices\u001b[0m\u001b[0;34m(\u001b[0m\u001b[0mX\u001b[0m\u001b[0;34m.\u001b[0m\u001b[0mshape\u001b[0m\u001b[0;34m[\u001b[0m\u001b[0;36m0\u001b[0m\u001b[0;34m]\u001b[0m\u001b[0;34m,\u001b[0m \u001b[0mn_jobs\u001b[0m\u001b[0;34m)\u001b[0m\u001b[0;34m\u001b[0m\u001b[0m\n\u001b[0m\u001b[1;32m    444\u001b[0m             )\n\u001b[1;32m    445\u001b[0m         \u001b[0;32melse\u001b[0m\u001b[0;34m:\u001b[0m\u001b[0;34m\u001b[0m\u001b[0m\n",
      "\u001b[0;32m~/Documents/DSC341/Final/digit/env/lib/python3.6/site-packages/sklearn/externals/joblib/parallel.py\u001b[0m in \u001b[0;36m__call__\u001b[0;34m(self, iterable)\u001b[0m\n\u001b[1;32m    981\u001b[0m             \u001b[0;31m# remaining jobs.\u001b[0m\u001b[0;34m\u001b[0m\u001b[0;34m\u001b[0m\u001b[0m\n\u001b[1;32m    982\u001b[0m             \u001b[0mself\u001b[0m\u001b[0;34m.\u001b[0m\u001b[0m_iterating\u001b[0m \u001b[0;34m=\u001b[0m \u001b[0;32mFalse\u001b[0m\u001b[0;34m\u001b[0m\u001b[0m\n\u001b[0;32m--> 983\u001b[0;31m             \u001b[0;32mif\u001b[0m \u001b[0mself\u001b[0m\u001b[0;34m.\u001b[0m\u001b[0mdispatch_one_batch\u001b[0m\u001b[0;34m(\u001b[0m\u001b[0miterator\u001b[0m\u001b[0;34m)\u001b[0m\u001b[0;34m:\u001b[0m\u001b[0;34m\u001b[0m\u001b[0m\n\u001b[0m\u001b[1;32m    984\u001b[0m                 \u001b[0mself\u001b[0m\u001b[0;34m.\u001b[0m\u001b[0m_iterating\u001b[0m \u001b[0;34m=\u001b[0m \u001b[0mself\u001b[0m\u001b[0;34m.\u001b[0m\u001b[0m_original_iterator\u001b[0m \u001b[0;32mis\u001b[0m \u001b[0;32mnot\u001b[0m \u001b[0;32mNone\u001b[0m\u001b[0;34m\u001b[0m\u001b[0m\n\u001b[1;32m    985\u001b[0m \u001b[0;34m\u001b[0m\u001b[0m\n",
      "\u001b[0;32m~/Documents/DSC341/Final/digit/env/lib/python3.6/site-packages/sklearn/externals/joblib/parallel.py\u001b[0m in \u001b[0;36mdispatch_one_batch\u001b[0;34m(self, iterator)\u001b[0m\n\u001b[1;32m    823\u001b[0m                 \u001b[0;32mreturn\u001b[0m \u001b[0;32mFalse\u001b[0m\u001b[0;34m\u001b[0m\u001b[0m\n\u001b[1;32m    824\u001b[0m             \u001b[0;32melse\u001b[0m\u001b[0;34m:\u001b[0m\u001b[0;34m\u001b[0m\u001b[0m\n\u001b[0;32m--> 825\u001b[0;31m                 \u001b[0mself\u001b[0m\u001b[0;34m.\u001b[0m\u001b[0m_dispatch\u001b[0m\u001b[0;34m(\u001b[0m\u001b[0mtasks\u001b[0m\u001b[0;34m)\u001b[0m\u001b[0;34m\u001b[0m\u001b[0m\n\u001b[0m\u001b[1;32m    826\u001b[0m                 \u001b[0;32mreturn\u001b[0m \u001b[0;32mTrue\u001b[0m\u001b[0;34m\u001b[0m\u001b[0m\n\u001b[1;32m    827\u001b[0m \u001b[0;34m\u001b[0m\u001b[0m\n",
      "\u001b[0;32m~/Documents/DSC341/Final/digit/env/lib/python3.6/site-packages/sklearn/externals/joblib/parallel.py\u001b[0m in \u001b[0;36m_dispatch\u001b[0;34m(self, batch)\u001b[0m\n\u001b[1;32m    780\u001b[0m         \u001b[0;32mwith\u001b[0m \u001b[0mself\u001b[0m\u001b[0;34m.\u001b[0m\u001b[0m_lock\u001b[0m\u001b[0;34m:\u001b[0m\u001b[0;34m\u001b[0m\u001b[0m\n\u001b[1;32m    781\u001b[0m             \u001b[0mjob_idx\u001b[0m \u001b[0;34m=\u001b[0m \u001b[0mlen\u001b[0m\u001b[0;34m(\u001b[0m\u001b[0mself\u001b[0m\u001b[0;34m.\u001b[0m\u001b[0m_jobs\u001b[0m\u001b[0;34m)\u001b[0m\u001b[0;34m\u001b[0m\u001b[0m\n\u001b[0;32m--> 782\u001b[0;31m             \u001b[0mjob\u001b[0m \u001b[0;34m=\u001b[0m \u001b[0mself\u001b[0m\u001b[0;34m.\u001b[0m\u001b[0m_backend\u001b[0m\u001b[0;34m.\u001b[0m\u001b[0mapply_async\u001b[0m\u001b[0;34m(\u001b[0m\u001b[0mbatch\u001b[0m\u001b[0;34m,\u001b[0m \u001b[0mcallback\u001b[0m\u001b[0;34m=\u001b[0m\u001b[0mcb\u001b[0m\u001b[0;34m)\u001b[0m\u001b[0;34m\u001b[0m\u001b[0m\n\u001b[0m\u001b[1;32m    783\u001b[0m             \u001b[0;31m# A job can complete so quickly than its callback is\u001b[0m\u001b[0;34m\u001b[0m\u001b[0;34m\u001b[0m\u001b[0m\n\u001b[1;32m    784\u001b[0m             \u001b[0;31m# called before we get here, causing self._jobs to\u001b[0m\u001b[0;34m\u001b[0m\u001b[0;34m\u001b[0m\u001b[0m\n",
      "\u001b[0;32m~/Documents/DSC341/Final/digit/env/lib/python3.6/site-packages/sklearn/externals/joblib/_parallel_backends.py\u001b[0m in \u001b[0;36mapply_async\u001b[0;34m(self, func, callback)\u001b[0m\n\u001b[1;32m    180\u001b[0m     \u001b[0;32mdef\u001b[0m \u001b[0mapply_async\u001b[0m\u001b[0;34m(\u001b[0m\u001b[0mself\u001b[0m\u001b[0;34m,\u001b[0m \u001b[0mfunc\u001b[0m\u001b[0;34m,\u001b[0m \u001b[0mcallback\u001b[0m\u001b[0;34m=\u001b[0m\u001b[0;32mNone\u001b[0m\u001b[0;34m)\u001b[0m\u001b[0;34m:\u001b[0m\u001b[0;34m\u001b[0m\u001b[0m\n\u001b[1;32m    181\u001b[0m         \u001b[0;34m\"\"\"Schedule a func to be run\"\"\"\u001b[0m\u001b[0;34m\u001b[0m\u001b[0m\n\u001b[0;32m--> 182\u001b[0;31m         \u001b[0mresult\u001b[0m \u001b[0;34m=\u001b[0m \u001b[0mImmediateResult\u001b[0m\u001b[0;34m(\u001b[0m\u001b[0mfunc\u001b[0m\u001b[0;34m)\u001b[0m\u001b[0;34m\u001b[0m\u001b[0m\n\u001b[0m\u001b[1;32m    183\u001b[0m         \u001b[0;32mif\u001b[0m \u001b[0mcallback\u001b[0m\u001b[0;34m:\u001b[0m\u001b[0;34m\u001b[0m\u001b[0m\n\u001b[1;32m    184\u001b[0m             \u001b[0mcallback\u001b[0m\u001b[0;34m(\u001b[0m\u001b[0mresult\u001b[0m\u001b[0;34m)\u001b[0m\u001b[0;34m\u001b[0m\u001b[0m\n",
      "\u001b[0;32m~/Documents/DSC341/Final/digit/env/lib/python3.6/site-packages/sklearn/externals/joblib/_parallel_backends.py\u001b[0m in \u001b[0;36m__init__\u001b[0;34m(self, batch)\u001b[0m\n\u001b[1;32m    543\u001b[0m         \u001b[0;31m# Don't delay the application, to avoid keeping the input\u001b[0m\u001b[0;34m\u001b[0m\u001b[0;34m\u001b[0m\u001b[0m\n\u001b[1;32m    544\u001b[0m         \u001b[0;31m# arguments in memory\u001b[0m\u001b[0;34m\u001b[0m\u001b[0;34m\u001b[0m\u001b[0m\n\u001b[0;32m--> 545\u001b[0;31m         \u001b[0mself\u001b[0m\u001b[0;34m.\u001b[0m\u001b[0mresults\u001b[0m \u001b[0;34m=\u001b[0m \u001b[0mbatch\u001b[0m\u001b[0;34m(\u001b[0m\u001b[0;34m)\u001b[0m\u001b[0;34m\u001b[0m\u001b[0m\n\u001b[0m\u001b[1;32m    546\u001b[0m \u001b[0;34m\u001b[0m\u001b[0m\n\u001b[1;32m    547\u001b[0m     \u001b[0;32mdef\u001b[0m \u001b[0mget\u001b[0m\u001b[0;34m(\u001b[0m\u001b[0mself\u001b[0m\u001b[0;34m)\u001b[0m\u001b[0;34m:\u001b[0m\u001b[0;34m\u001b[0m\u001b[0m\n",
      "\u001b[0;32m~/Documents/DSC341/Final/digit/env/lib/python3.6/site-packages/sklearn/externals/joblib/parallel.py\u001b[0m in \u001b[0;36m__call__\u001b[0;34m(self)\u001b[0m\n\u001b[1;32m    259\u001b[0m         \u001b[0;32mwith\u001b[0m \u001b[0mparallel_backend\u001b[0m\u001b[0;34m(\u001b[0m\u001b[0mself\u001b[0m\u001b[0;34m.\u001b[0m\u001b[0m_backend\u001b[0m\u001b[0;34m)\u001b[0m\u001b[0;34m:\u001b[0m\u001b[0;34m\u001b[0m\u001b[0m\n\u001b[1;32m    260\u001b[0m             return [func(*args, **kwargs)\n\u001b[0;32m--> 261\u001b[0;31m                     for func, args, kwargs in self.items]\n\u001b[0m\u001b[1;32m    262\u001b[0m \u001b[0;34m\u001b[0m\u001b[0m\n\u001b[1;32m    263\u001b[0m     \u001b[0;32mdef\u001b[0m \u001b[0m__len__\u001b[0m\u001b[0;34m(\u001b[0m\u001b[0mself\u001b[0m\u001b[0;34m)\u001b[0m\u001b[0;34m:\u001b[0m\u001b[0;34m\u001b[0m\u001b[0m\n",
      "\u001b[0;32m~/Documents/DSC341/Final/digit/env/lib/python3.6/site-packages/sklearn/externals/joblib/parallel.py\u001b[0m in \u001b[0;36m<listcomp>\u001b[0;34m(.0)\u001b[0m\n\u001b[1;32m    259\u001b[0m         \u001b[0;32mwith\u001b[0m \u001b[0mparallel_backend\u001b[0m\u001b[0;34m(\u001b[0m\u001b[0mself\u001b[0m\u001b[0;34m.\u001b[0m\u001b[0m_backend\u001b[0m\u001b[0;34m)\u001b[0m\u001b[0;34m:\u001b[0m\u001b[0;34m\u001b[0m\u001b[0m\n\u001b[1;32m    260\u001b[0m             return [func(*args, **kwargs)\n\u001b[0;32m--> 261\u001b[0;31m                     for func, args, kwargs in self.items]\n\u001b[0m\u001b[1;32m    262\u001b[0m \u001b[0;34m\u001b[0m\u001b[0m\n\u001b[1;32m    263\u001b[0m     \u001b[0;32mdef\u001b[0m \u001b[0m__len__\u001b[0m\u001b[0;34m(\u001b[0m\u001b[0mself\u001b[0m\u001b[0;34m)\u001b[0m\u001b[0;34m:\u001b[0m\u001b[0;34m\u001b[0m\u001b[0m\n",
      "\u001b[0;31mKeyboardInterrupt\u001b[0m: "
     ]
    }
   ],
   "source": [
    "test_model(knn_model, 'knn_prediction.csv')"
   ]
  },
  {
   "attachments": {},
   "cell_type": "markdown",
   "metadata": {},
   "source": [
    "![title](images/knn.png)\n"
   ]
  },
  {
   "cell_type": "markdown",
   "metadata": {},
   "source": [
    "# [Random Forest](https://scikit-learn.org/stable/modules/generated/sklearn.ensemble.RandomForestClassifier.html) - Submission Accuracy: 0.96028\n",
    "### Sklearn RandomForestClassifier model implementation"
   ]
  },
  {
   "cell_type": "code",
   "execution_count": 10,
   "metadata": {},
   "outputs": [
    {
     "data": {
      "text/plain": [
       "RandomForestClassifier(bootstrap=True, class_weight=None, criterion='gini',\n",
       "            max_depth=None, max_features='auto', max_leaf_nodes=None,\n",
       "            min_impurity_decrease=0.0, min_impurity_split=None,\n",
       "            min_samples_leaf=1, min_samples_split=2,\n",
       "            min_weight_fraction_leaf=0.0, n_estimators=120, n_jobs=None,\n",
       "            oob_score=False, random_state=None, verbose=0,\n",
       "            warm_start=False)"
      ]
     },
     "execution_count": 10,
     "metadata": {},
     "output_type": "execute_result"
    }
   ],
   "source": [
    "import numpy as np\n",
    "from sklearn.ensemble import RandomForestClassifier\n",
    "\n",
    "# Build a simple Random forest classification model. Create 120 trees (most optimal) and merge them together.\n",
    "# We determined 120 trees by testing variations between 5 and 130 and concluding 120 to yield the best results.\n",
    "# A graph of accuracy v n_estimators is below.\n",
    "rf_model = RandomForestClassifier(n_estimators=120)\n",
    "rf_model.fit(X_train, y_train)"
   ]
  },
  {
   "cell_type": "code",
   "execution_count": 11,
   "metadata": {},
   "outputs": [
    {
     "name": "stdout",
     "output_type": "stream",
     "text": [
      "1.0\n"
     ]
    }
   ],
   "source": [
    "test_model(rf_model, 'rf_prediction.csv')"
   ]
  },
  {
   "attachments": {},
   "cell_type": "markdown",
   "metadata": {},
   "source": [
    "![title](images/random_forest.png)"
   ]
  },
  {
   "cell_type": "markdown",
   "metadata": {},
   "source": [
    "# [Basic Perceptron](https://keras.io/) using [Tensorflow](https://www.tensorflow.org/) - Submission Accuracy: 0.97485\n",
    "\n",
    "### Keras neural network implementation with Tensorflow backend"
   ]
  },
  {
   "cell_type": "code",
   "execution_count": 12,
   "metadata": {},
   "outputs": [
    {
     "name": "stderr",
     "output_type": "stream",
     "text": [
      "Using TensorFlow backend.\n"
     ]
    }
   ],
   "source": [
    "import numpy as np\n",
    "\n",
    "# Use keras with Tensorflow backend\n",
    "from keras.models import Sequential\n",
    "from keras.layers import Dense\n",
    "from keras.layers import Dropout\n",
    "from keras.utils import np_utils\n",
    "from keras.layers.convolutional import Conv2D\n",
    "from keras.layers.convolutional import MaxPooling2D\n",
    "from keras.layers import Flatten\n",
    "\n",
    "# Set random seed to make results deterministic\n",
    "np.random.seed(7)\n",
    "\n",
    "number_pixels = 28 * 28\n",
    "number_classes = 10\n",
    "\n",
    "# Convert classes [0-9] into binary matrix representations. Good practice for multi-class predictions\n",
    "nn_y_train = np_utils.to_categorical(y_train)\n",
    "nn_y_test = np_utils.to_categorical(y_test)"
   ]
  },
  {
   "cell_type": "code",
   "execution_count": 13,
   "metadata": {
    "collapsed": true
   },
   "outputs": [],
   "source": [
    "def create_nn_model():\n",
    "    model = Sequential()\n",
    "    # First layer of neural network. We want there to be a neuron for each pixel.\n",
    "    model.add(Dense(units=number_pixels, input_dim=number_pixels, kernel_initializer='normal', activation='relu'))\n",
    "    # A softmax function is used to turn the output into probabilities which can be used to classify the images\n",
    "    model.add(Dense(units=number_classes, kernel_initializer='normal', activation='softmax'))\n",
    "    # We use a logarithmic loss function and the adam gradient descent for learning neuron weights.\n",
    "    model.compile(loss='categorical_crossentropy', optimizer='adam', metrics=['accuracy'])\n",
    "    return model"
   ]
  },
  {
   "cell_type": "markdown",
   "metadata": {},
   "source": [
    "### Perceptron model tester and kaggle upload file builder\n",
    "- Test the accuracy of our perceptron models\n",
    "- If passed an output_file, build a file that is accepted by the kaggle grader"
   ]
  },
  {
   "cell_type": "code",
   "execution_count": 14,
   "metadata": {
    "collapsed": true
   },
   "outputs": [],
   "source": [
    "def nn_test_model(model, output_file=None):\n",
    "    yhat = model.predict_classes(test_df.reshape(test_df.shape[0], 784).astype('float32'))\n",
    "    df = pd.DataFrame(data={\n",
    "        'ImageId': list(range(1, len(yhat)+1)), \n",
    "        'Label': yhat\n",
    "    })\n",
    "    accuracy = model.evaluate(nn_X_test, nn_y_test)\n",
    "    if output_file:\n",
    "        df.to_csv('./output/' + output_file, index = False)\n",
    "    print(accuracy[1])"
   ]
  },
  {
   "cell_type": "code",
   "execution_count": 15,
   "metadata": {},
   "outputs": [
    {
     "name": "stdout",
     "output_type": "stream",
     "text": [
      "Train on 42000 samples, validate on 10500 samples\n",
      "Epoch 1/15\n",
      " - 7s - loss: 0.2685 - acc: 0.9227 - val_loss: 0.1337 - val_acc: 0.9613\n",
      "Epoch 2/15\n",
      " - 7s - loss: 0.1052 - acc: 0.9698 - val_loss: 0.0741 - val_acc: 0.9786\n",
      "Epoch 3/15\n",
      " - 7s - loss: 0.0675 - acc: 0.9797 - val_loss: 0.0442 - val_acc: 0.9880\n",
      "Epoch 4/15\n",
      " - 7s - loss: 0.0451 - acc: 0.9870 - val_loss: 0.0325 - val_acc: 0.9908\n",
      "Epoch 5/15\n",
      " - 7s - loss: 0.0315 - acc: 0.9907 - val_loss: 0.0234 - val_acc: 0.9942\n",
      "Epoch 6/15\n",
      " - 7s - loss: 0.0218 - acc: 0.9940 - val_loss: 0.0136 - val_acc: 0.9974\n",
      "Epoch 7/15\n",
      " - 7s - loss: 0.0162 - acc: 0.9954 - val_loss: 0.0132 - val_acc: 0.9968\n",
      "Epoch 8/15\n",
      " - 7s - loss: 0.0120 - acc: 0.9969 - val_loss: 0.0111 - val_acc: 0.9969\n",
      "Epoch 9/15\n",
      " - 7s - loss: 0.0092 - acc: 0.9980 - val_loss: 0.0073 - val_acc: 0.9981\n",
      "Epoch 10/15\n",
      " - 7s - loss: 0.0051 - acc: 0.9991 - val_loss: 0.0053 - val_acc: 0.9990\n",
      "Epoch 11/15\n",
      " - 7s - loss: 0.0069 - acc: 0.9982 - val_loss: 0.0095 - val_acc: 0.9978\n",
      "Epoch 12/15\n",
      " - 7s - loss: 0.0110 - acc: 0.9967 - val_loss: 0.0061 - val_acc: 0.9987\n",
      "Epoch 13/15\n",
      " - 7s - loss: 0.0085 - acc: 0.9977 - val_loss: 0.0069 - val_acc: 0.9980\n",
      "Epoch 14/15\n",
      " - 6s - loss: 0.0034 - acc: 0.9993 - val_loss: 0.0011 - val_acc: 0.9999\n",
      "Epoch 15/15\n",
      " - 7s - loss: 0.0017 - acc: 0.9998 - val_loss: 0.0010 - val_acc: 0.9999\n"
     ]
    }
   ],
   "source": [
    "# Flatten image into a single dimension. Cast as 32-bit to save on memory.\n",
    "nn_X_train = X_train.reshape(X_train.shape[0], number_pixels).astype('float32')\n",
    "nn_X_test = X_test.reshape(X_test.shape[0], number_pixels).astype('float32')\n",
    "\n",
    "nn_model = create_nn_model()\n",
    "# We fit the single layer neural network by building 15 neural networks and merging them into one.\n",
    "# We have the model update every 100 images, the larger the batch_size, the faster each epoch trains\n",
    "nn_history = nn_model.fit(nn_X_train, nn_y_train, validation_data=(nn_X_test, nn_y_test), epochs=15, batch_size=100, verbose=2)\n",
    "# An output for the results of each epoch training is below"
   ]
  },
  {
   "cell_type": "code",
   "execution_count": 16,
   "metadata": {},
   "outputs": [
    {
     "name": "stdout",
     "output_type": "stream",
     "text": [
      "10500/10500 [==============================] - 1s 66us/step\n",
      "0.9999047619047619\n"
     ]
    }
   ],
   "source": [
    "nn_test_model(nn_model, output_file='nn_prediction.csv')"
   ]
  },
  {
   "cell_type": "code",
   "execution_count": 17,
   "metadata": {},
   "outputs": [
    {
     "data": {
      "image/png": "[encoded data removed]",
      "text/plain": [
       "<Figure size 432x288 with 1 Axes>"
      ]
     },
     "metadata": {
      "needs_background": "light"
     },
     "output_type": "display_data"
    },
    {
     "data": {
      "image/png": "[encoded data removed]",
      "text/plain": [
       "<Figure size 432x288 with 1 Axes>"
      ]
     },
     "metadata": {
      "needs_background": "light"
     },
     "output_type": "display_data"
    }
   ],
   "source": [
    "import matplotlib.pyplot as plt\n",
    "\n",
    "plt.plot(nn_history.history['acc'])\n",
    "plt.plot(nn_history.history['val_acc'])\n",
    "plt.title('Model accuracy')\n",
    "plt.ylabel('Accuracy')\n",
    "plt.xlabel('Epoch')\n",
    "plt.legend(['Train', 'Test'], loc='upper left')\n",
    "plt.show()\n",
    "\n",
    "plt.plot(nn_history.history['loss'])\n",
    "plt.plot(nn_history.history['val_loss'])\n",
    "plt.title('Model loss')\n",
    "plt.ylabel('Loss')\n",
    "plt.xlabel('Epoch')\n",
    "plt.legend(['Train', 'Test'], loc='upper left')\n",
    "plt.show()\n"
   ]
  },
  {
   "cell_type": "markdown",
   "metadata": {},
   "source": [
    "# [Convolutional Neural Network](https://keras.io/) using [Tensorflow](https://www.tensorflow.org/) - Submission Accuracy: 0.98771\n",
    "\n",
    "### Keras neural network implementation with Tensorflow backend"
   ]
  },
  {
   "cell_type": "code",
   "execution_count": 18,
   "metadata": {
    "collapsed": true
   },
   "outputs": [],
   "source": [
    "def create_cnn_model():\n",
    "    model = Sequential()\n",
    "    # Our first layer is a convolution layer wich takes our image and scans it with a 5x5 window\n",
    "    # creating a 2-dimentional activation map that gives the responses of that filter at every \n",
    "    # spatial position. Essentially this layer learns about image features rather than single pixels.\n",
    "    model.add(Conv2D(32, (5, 5), input_shape=(1, 28, 28), activation='relu', dim_ordering='th'))\n",
    "    # Slide a 2x2 window over the convoluted feature and take the maximum of the four neuron values. \n",
    "    model.add(MaxPooling2D(pool_size=(2, 2)))\n",
    "    # Randomly remove 20% of information (pixels/neurons). Prevents overfitting the model.\n",
    "    model.add(Dropout(0.2))\n",
    "    # Convert the two dimentional data into one dimension.\n",
    "    model.add(Flatten())\n",
    "    # We add one more layer of neurons that activate similarly to our other model, only now we don't need as many.\n",
    "    model.add(Dense(128, activation='relu'))\n",
    "    # Use the same output layers as the previous neural network to classify the images.\n",
    "    model.add(Dense(number_classes, activation='softmax'))\n",
    "    model.compile(loss='categorical_crossentropy', optimizer='adam', metrics=['accuracy'])\n",
    "    return model"
   ]
  },
  {
   "cell_type": "markdown",
   "metadata": {},
   "source": [
    "### CNN model tester and kaggle upload file builder\n",
    "- Test the accuracy of our perceptron models\n",
    "- If passed an output_file, build a file that is accepted by the kaggle grader"
   ]
  },
  {
   "cell_type": "code",
   "execution_count": 22,
   "metadata": {},
   "outputs": [],
   "source": [
    "def cnn_test_model(model, output_file=None):\n",
    "    yhat = model.predict_classes(test_df.reshape(test_df.shape[0], 1, 28, 28).astype('float32'))\n",
    "    df = pd.DataFrame(data={\n",
    "        'ImageId': list(range(1, len(yhat)+1)), \n",
    "        'Label': yhat\n",
    "    })\n",
    "    accuracy = model.evaluate(cnn_X_test, nn_y_test)\n",
    "    if output_file:\n",
    "        df.to_csv('./output/' + output_file, index = False)\n",
    "    print(accuracy[1])"
   ]
  },
  {
   "cell_type": "code",
   "execution_count": 20,
   "metadata": {},
   "outputs": [
    {
     "name": "stdout",
     "output_type": "stream",
     "text": [
      "Train on 42000 samples, validate on 10500 samples\n",
      "Epoch 1/15\n",
      " - 72s - loss: 0.2263 - acc: 0.9327 - val_loss: 0.0775 - val_acc: 0.9766\n",
      "Epoch 2/15\n",
      " - 67s - loss: 0.0724 - acc: 0.9784 - val_loss: 0.0486 - val_acc: 0.9863\n",
      "Epoch 3/15\n",
      " - 69s - loss: 0.0488 - acc: 0.9840 - val_loss: 0.0353 - val_acc: 0.9907\n",
      "Epoch 4/15\n",
      " - 67s - loss: 0.0375 - acc: 0.9885 - val_loss: 0.0240 - val_acc: 0.9936\n",
      "Epoch 5/15\n",
      " - 68s - loss: 0.0295 - acc: 0.9908 - val_loss: 0.0201 - val_acc: 0.9938\n",
      "Epoch 6/15\n",
      " - 67s - loss: 0.0253 - acc: 0.9916 - val_loss: 0.0193 - val_acc: 0.9948\n",
      "Epoch 7/15\n",
      " - 69s - loss: 0.0195 - acc: 0.9935 - val_loss: 0.0196 - val_acc: 0.9941\n",
      "Epoch 8/15\n",
      " - 68s - loss: 0.0161 - acc: 0.9948 - val_loss: 0.0104 - val_acc: 0.9969\n",
      "Epoch 9/15\n",
      " - 67s - loss: 0.0143 - acc: 0.9950 - val_loss: 0.0097 - val_acc: 0.9970\n",
      "Epoch 10/15\n",
      " - 67s - loss: 0.0112 - acc: 0.9964 - val_loss: 0.0049 - val_acc: 0.9992\n",
      "Epoch 11/15\n",
      " - 67s - loss: 0.0117 - acc: 0.9962 - val_loss: 0.0054 - val_acc: 0.9988\n",
      "Epoch 12/15\n",
      " - 67s - loss: 0.0101 - acc: 0.9965 - val_loss: 0.0042 - val_acc: 0.9991\n",
      "Epoch 13/15\n",
      " - 67s - loss: 0.0090 - acc: 0.9969 - val_loss: 0.0062 - val_acc: 0.9988\n",
      "Epoch 14/15\n",
      " - 67s - loss: 0.0072 - acc: 0.9975 - val_loss: 0.0045 - val_acc: 0.9989\n",
      "Epoch 15/15\n",
      " - 67s - loss: 0.0064 - acc: 0.9981 - val_loss: 0.0041 - val_acc: 0.9992\n"
     ]
    }
   ],
   "source": [
    "# Transform train data into pixels, width, height. We set the scale to be 1 because the images are on a gray scale.\n",
    "# We would set this to 3 if the colors were RGB for example. Cast as 32-bit to save on memory.\n",
    "cnn_X_train = X_train.reshape(X_train.shape[0], 1, 28, 28).astype('float32')\n",
    "cnn_X_test = X_test.reshape(X_test.shape[0], 1, 28, 28).astype('float32')\n",
    "\n",
    "cnn_model = create_cnn_model()\n",
    "# NOTE: The more epochs, the better the results will be but the slower it takes to build.\n",
    "# A little bit better results but a lot more time to train. Benefits and drawbacks.\n",
    "cnn_history = cnn_model.fit(cnn_X_train, nn_y_train, validation_data=(cnn_X_test, nn_y_test), epochs=15, batch_size=100, verbose=2)\n",
    "# An output for the results of each epoch training is below"
   ]
  },
  {
   "cell_type": "code",
   "execution_count": 23,
   "metadata": {},
   "outputs": [
    {
     "name": "stdout",
     "output_type": "stream",
     "text": [
      "10500/10500 [==============================] - 10s 908us/step\n",
      "0.9992380952380953\n"
     ]
    }
   ],
   "source": [
    "cnn_test_model(cnn_model, output_file='cnn_prediction.csv')"
   ]
  },
  {
   "cell_type": "code",
   "execution_count": 24,
   "metadata": {},
   "outputs": [
    {
     "data": {
      "image/png": "[encoded data removed]",
      "text/plain": [
       "<Figure size 432x288 with 1 Axes>"
      ]
     },
     "metadata": {
      "needs_background": "light"
     },
     "output_type": "display_data"
    },
    {
     "data": {
      "image/png": "[encoded data removed]",
      "text/plain": [
       "<Figure size 432x288 with 1 Axes>"
      ]
     },
     "metadata": {
      "needs_background": "light"
     },
     "output_type": "display_data"
    }
   ],
   "source": [
    "import matplotlib.pyplot as plt\n",
    " \n",
    "plt.plot(cnn_history.history['acc'])\n",
    "plt.plot(cnn_history.history['val_acc'])\n",
    "plt.title('Model accuracy')\n",
    "plt.ylabel('Accuracy')\n",
    "plt.xlabel('Epoch')\n",
    "plt.legend(['Train', 'Test'], loc='upper left')\n",
    "plt.show()\n",
    "\n",
    "plt.plot(cnn_history.history['loss'])\n",
    "plt.plot(cnn_history.history['val_loss'])\n",
    "plt.title('Model loss')\n",
    "plt.ylabel('Loss')\n",
    "plt.xlabel('Epoch')\n",
    "plt.legend(['Train', 'Test'], loc='upper left')\n",
    "plt.show()"
   ]
  }
 ],
 "metadata": {
  "kernelspec": {
   "display_name": "digit",
   "language": "python",
   "name": "digit"
  },
  "language_info": {
   "codemirror_mode": {
    "name": "ipython",
    "version": 3
   },
   "file_extension": ".py",
   "mimetype": "text/x-python",
   "name": "python",
   "nbconvert_exporter": "python",
   "pygments_lexer": "ipython3",
   "version": "3.6.6"
  }
 },
 "nbformat": 4,
 "nbformat_minor": 2
}
